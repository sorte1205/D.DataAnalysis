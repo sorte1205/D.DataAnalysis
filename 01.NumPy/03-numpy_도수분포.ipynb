{
 "cells": [
  {
   "cell_type": "markdown",
   "metadata": {},
   "source": [
    "## #01. 개요\n",
    "\n",
    "### [1] 도수\n",
    "\n",
    "특정한 구간 또는 범주에 속하는 자료의 개수\n",
    "\n",
    "예를 들어, 어떤 학급의 학생들의 시험 점수를 기록한다면 각 점수 대역에 속하는 학생의 수를 세어 도수를 구할 수 있다.\n",
    "\n",
    "### [2] 도수분포표\n",
    "\n",
    "도수들을 정리하여 구간별 도수를 표로 나타낸 것\n",
    "\n",
    "도수 분포는 평균, 중앙값, 최빈값과 같은 중심경향성 통계량을 계산하거나 자료의 분산과 퍼짐 정도를 파악하는 데에도 사용된다.\n",
    "\n",
    "이를 통해 데이터의 특성을 더 잘 이해하고 추론할 수 있다.\n",
    "\n",
    "\n",
    "## #02. 준비과정\n",
    "\n",
    "### [1] 패키지 참조\n"
   ]
  },
  {
   "cell_type": "code",
   "execution_count": 4,
   "metadata": {},
   "outputs": [],
   "source": [
    "import numpy as np"
   ]
  },
  {
   "cell_type": "markdown",
   "metadata": {},
   "source": [
    "### [2] 샘플 데이터 준비\n",
    "어느 학급의 시험 점수"
   ]
  },
  {
   "cell_type": "code",
   "execution_count": 5,
   "metadata": {},
   "outputs": [
    {
     "data": {
      "text/plain": [
       "array([100,  91,  89,  86,  84,  79,  78,  77,  74,  71,  69,  66,  65,\n",
       "        60,  58,  57,  55])"
      ]
     },
     "execution_count": 5,
     "metadata": {},
     "output_type": "execute_result"
    }
   ],
   "source": [
    "point = np.array([100, 91, 89, 86, 84, 79, 78, 77, 74, 71, 69, 66, 65, 60, 58, 57, 55])\n",
    "point"
   ]
  },
  {
   "cell_type": "markdown",
   "metadata": {},
   "source": [
    "## #03. Numpy의 histogram : 도수분포도\n",
    "\n",
    "### [1] 5개의 구간으로 나누기"
   ]
  },
  {
   "cell_type": "code",
   "execution_count": 13,
   "metadata": {},
   "outputs": [
    {
     "name": "stdout",
     "output_type": "stream",
     "text": [
      "구간별 데이터 수: [4 4 4 3 2]\n",
      "구간 경계: [ 55.  64.  73.  82.  91. 100.]\n"
     ]
    }
   ],
   "source": [
    "hist, bins = np.histogram(point, 5) # 임의로 5등분해줌. (경계는 6개)\n",
    "print(\"구간별 데이터 수:\", hist)\n",
    "print(\"구간 경계:\", bins)   "
   ]
  },
  {
   "cell_type": "code",
   "execution_count": 7,
   "metadata": {},
   "outputs": [
    {
     "name": "stdout",
     "output_type": "stream",
     "text": [
      "55이상 64미만: 4개\n",
      "64이상 73미만: 4개\n",
      "73이상 82미만: 4개\n",
      "82이상 91미만: 3개\n",
      "91이상 100이하: 2개\n"
     ]
    }
   ],
   "source": [
    "# 마지막만 미만이 아닌 '이하' 이므로\n",
    "s = len(hist)\n",
    "for i in range(0,s):\n",
    "    if i + 1 <s:\n",
    "        tpl = \"%d이상 %d미만: %d개\"\n",
    "    else:\n",
    "        tpl = \"%d이상 %d이하: %d개\"\n",
    "\n",
    "    print(tpl % (bins[i], bins[i+1], hist[i]))"
   ]
  },
  {
   "cell_type": "markdown",
   "metadata": {},
   "source": [
    "### [2] 데이터 구간을 직접 정의하기"
   ]
  },
  {
   "cell_type": "code",
   "execution_count": 14,
   "metadata": {},
   "outputs": [
    {
     "name": "stdout",
     "output_type": "stream",
     "text": [
      "구간별 데이터 수: [3 4 5 3 2]\n",
      "구간 경계: [ 50  60  70  80  90 100]\n"
     ]
    }
   ],
   "source": [
    "hist, bins = np.histogram(point, [50, 60, 70, 80, 90, 100])     # 경계를 6개 지정, 5등분 됨.\n",
    "print(\"구간별 데이터 수:\", hist)\n",
    "print(\"구간 경계:\", bins)"
   ]
  },
  {
   "cell_type": "markdown",
   "metadata": {},
   "source": [
    "## #04. 도수의 종류\n",
    "\n",
    "### [1] 절대 도수\n",
    "\n",
    "어떠한 변수에 대한 실제 빈도수\n",
    "\n",
    "`np.histogram()`에서 리턴하는 `hist`값이 절대도수임\n",
    "\n",
    "### [2] 상대도수\n",
    "\n",
    "절대도수를 백분률로 환산한 값\n",
    "\n",
    "각 도수를, 도수의 총 합으로 나눈 값"
   ]
  },
  {
   "cell_type": "code",
   "execution_count": 9,
   "metadata": {},
   "outputs": [
    {
     "data": {
      "text/plain": [
       "array([0.17647059, 0.23529412, 0.29411765, 0.17647059, 0.11764706])"
      ]
     },
     "execution_count": 9,
     "metadata": {},
     "output_type": "execute_result"
    }
   ],
   "source": [
    "relative_freq = hist / np.sum(hist)\n",
    "relative_freq"
   ]
  },
  {
   "cell_type": "markdown",
   "metadata": {},
   "source": [
    "### [3] 누적도수\n",
    "\n",
    "절대도수에서 자기 앞 도수를 모두 다 더한 값"
   ]
  },
  {
   "cell_type": "code",
   "execution_count": 11,
   "metadata": {},
   "outputs": [
    {
     "data": {
      "text/plain": [
       "17"
      ]
     },
     "execution_count": 11,
     "metadata": {},
     "output_type": "execute_result"
    }
   ],
   "source": [
    "cum_freq = []\n",
    "\n",
    "previous = 0\n",
    "\n",
    "for i in hist:\n",
    "    previous += i\n",
    "    cum_freq.append(previous)\n",
    "\n",
    "previous"
   ]
  }
 ],
 "metadata": {
  "kernelspec": {
   "display_name": "Python 3",
   "language": "python",
   "name": "python3"
  },
  "language_info": {
   "codemirror_mode": {
    "name": "ipython",
    "version": 3
   },
   "file_extension": ".py",
   "mimetype": "text/x-python",
   "name": "python",
   "nbconvert_exporter": "python",
   "pygments_lexer": "ipython3",
   "version": "3.12.0"
  }
 },
 "nbformat": 4,
 "nbformat_minor": 2
}
