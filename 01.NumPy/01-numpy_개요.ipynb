{
 "cells": [
  {
   "cell_type": "markdown",
   "metadata": {},
   "source": [
    "# Numpy\n",
    "\n",
    "## #01. Numpy 개요\n",
    "\n",
    "> Numeric Python\n",
    "\n",
    "- 다차원 배열을 쉽게 처리하고 효율적으로 사용할 수 있도록 지원하는 파이썬 패키지\n",
    "- 데이터 구조 외에도 수치 계산을 위해 효율적으로 구현된 기능 제공\n",
    "- 데이터 분석에서 Pandas와 함께 자주 사용하는 도구\n",
    "- 실제로 데이터 분석을 수행하기 위한 전제 조건은 컴퓨터가 이해할 수 있도록 데이터를 숫자 형식으로 변환하는 것\n",
    "- 파이썬의 list 자료형의 경우 데이터의 크기가 커질수록 저장 및 가공에 효율성을 보장하지 못함\n",
    "- 이러한 단점을 보완하기 위한 패키지이기 때문에 Data Science에서 핵심적인 도구로 인식되고 있음\n",
    "\n",
    "## #02. 준비과정\n",
    "\n",
    "### [1] 패키지 참조"
   ]
  },
  {
   "cell_type": "code",
   "execution_count": 1,
   "metadata": {},
   "outputs": [],
   "source": [
    "import numpy as np"
   ]
  },
  {
   "cell_type": "markdown",
   "metadata": {},
   "source": [
    "## #03. Numpy가 제공하는 데이터 타입\n",
    "\n",
    "리스트의 업그레이드 버전인 **배열(array)** 라는 데이터 타입을 제공한다.\n",
    "\n",
    "\n",
    "- list 타입: 서로 다른 타입의 원소를 허용한다. '[1, \"hello\", True]'\n",
    "- array 타입: 반드시 모든 원소의 데이터 타입이 동일해야 한다.\n",
    "\n",
    "\n",
    "### [1] numpy 배열 생성과 기본 활용\n",
    "\n",
    "리스트를 통한 1차원(=1행으로 구성) 배열 만들기"
   ]
  },
  {
   "cell_type": "code",
   "execution_count": 2,
   "metadata": {},
   "outputs": [
    {
     "name": "stdout",
     "output_type": "stream",
     "text": [
      "<class 'numpy.ndarray'>\n"
     ]
    },
    {
     "data": {
      "text/plain": [
       "array([1, 3, 5, 7, 9])"
      ]
     },
     "execution_count": 2,
     "metadata": {},
     "output_type": "execute_result"
    }
   ],
   "source": [
    "arr = np.array([1,3,5,7,9])\n",
    "print(type(arr))\n",
    "arr"
   ]
  },
  {
   "cell_type": "markdown",
   "metadata": {},
   "source": [
    "#### (2) 배열의 크기와 각 원소에 접근하기\n",
    "\n",
    "기본 특성은 list와 동일\n",
    "   \n",
    "    - 인덱스 번호와 길이의 존재\n",
    "    - 반복문을 통한 원소의 탐색\n",
    "    - 인덱싱, 슬라이싱"
   ]
  },
  {
   "cell_type": "code",
   "execution_count": 3,
   "metadata": {},
   "outputs": [
    {
     "name": "stdout",
     "output_type": "stream",
     "text": [
      "배열의 원소는 5개 입니다.\n"
     ]
    }
   ],
   "source": [
    "size = len(arr)\n",
    "print(\"배열의 원소는 %d개 입니다.\" % size)"
   ]
  },
  {
   "cell_type": "markdown",
   "metadata": {},
   "source": [
    "#### (3) 배열의 원소\n",
    "\n",
    "리스트와 마찬가지로 인덱스 번호가 존재"
   ]
  },
  {
   "cell_type": "code",
   "execution_count": 5,
   "metadata": {},
   "outputs": [
    {
     "name": "stdout",
     "output_type": "stream",
     "text": [
      "1\n",
      "3\n",
      "5\n"
     ]
    }
   ],
   "source": [
    "print(arr[0])\n",
    "print(arr[1])\n",
    "print(arr[2])"
   ]
  },
  {
   "cell_type": "markdown",
   "metadata": {},
   "source": [
    "#### (4) 반복문을 통한 활용\n",
    "\n",
    "리스트와 동일하게 사용할 수 있다."
   ]
  },
  {
   "cell_type": "code",
   "execution_count": 6,
   "metadata": {},
   "outputs": [
    {
     "name": "stdout",
     "output_type": "stream",
     "text": [
      "0번째 원소 >> 1\n",
      "1번째 원소 >> 3\n",
      "2번째 원소 >> 5\n",
      "3번째 원소 >> 7\n",
      "4번째 원소 >> 9\n"
     ]
    }
   ],
   "source": [
    "for i,v in enumerate(arr):\n",
    "    print(\"%d번째 원소 >> %d\"% (i,v))"
   ]
  },
  {
   "cell_type": "markdown",
   "metadata": {},
   "source": [
    "### [2] Numpy 배열의 특성\n",
    "\n",
    "#### (1) list 타입의 경우\n",
    "\n",
    "서로 다른 타입의 원소를 허용"
   ]
  },
  {
   "cell_type": "code",
   "execution_count": 7,
   "metadata": {},
   "outputs": [
    {
     "data": {
      "text/plain": [
       "[100, 3.14, True]"
      ]
     },
     "execution_count": 7,
     "metadata": {},
     "output_type": "execute_result"
    }
   ],
   "source": [
    "arr2 = [100, 3.14, True]\n",
    "arr2"
   ]
  },
  {
   "cell_type": "markdown",
   "metadata": {},
   "source": [
    "#### (2) Numpy 배열의 경우\n",
    "\n",
    "'arr2'를 배열로 변환할 경우 원소의 타입이 서로 다른것을 허용하지 않기 때문에 가장 포괄적인 형태의 자료형으로 통일함\n",
    "\n",
    "> 여기서는 실수의 범위가 더 크므로 모든 원소가 실수형으로 변환 됨."
   ]
  },
  {
   "cell_type": "code",
   "execution_count": 10,
   "metadata": {},
   "outputs": [
    {
     "data": {
      "text/plain": [
       "array([100.  ,   3.14,   1.  ])"
      ]
     },
     "execution_count": 10,
     "metadata": {},
     "output_type": "execute_result"
    }
   ],
   "source": [
    "arr3 = np.array(arr2)\n",
    "arr3        # '100.' '1.' 은 소수점 뒤의 0을 생략한 것임"
   ]
  },
  {
   "cell_type": "markdown",
   "metadata": {},
   "source": [
    "##### 강제 형 변환\n",
    "\n",
    "'np.array()'메서드에 'dype'파라미터로 특정 타입을 강제 지정할 수 있다.\n",
    "\n",
    "실수형 값을 정수로 변환하는 과정에서 소수점 아래는 모두 버림."
   ]
  },
  {
   "cell_type": "code",
   "execution_count": 11,
   "metadata": {},
   "outputs": [
    {
     "data": {
      "text/plain": [
       "array([100,   3,   1])"
      ]
     },
     "execution_count": 11,
     "metadata": {},
     "output_type": "execute_result"
    }
   ],
   "source": [
    "arr4 = np.array(arr2, dtype='int')\n",
    "arr4"
   ]
  },
  {
   "cell_type": "markdown",
   "metadata": {},
   "source": [
    "##### 문자열이 포함된 경우\n",
    "\n",
    "모든 프로그래밍 언어에서 가장 표현범위가 넓은 타입은 문자열이다.\n",
    "\n",
    "그러므로 문자열이 포함된 리스트를 배열로 변환할 경우 모든 원소가 문자열이 된다."
   ]
  },
  {
   "cell_type": "code",
   "execution_count": 15,
   "metadata": {},
   "outputs": [
    {
     "name": "stdout",
     "output_type": "stream",
     "text": [
      "['1.2' '3' 'True' '4']\n"
     ]
    },
    {
     "data": {
      "text/plain": [
       "array(['1.2', '3', 'True', '4'], dtype='<U32')"
      ]
     },
     "execution_count": 15,
     "metadata": {},
     "output_type": "execute_result"
    }
   ],
   "source": [
    "arr5 = np.array([1.2, 3, True, '4'])\n",
    "print(arr5)\n",
    "arr5        # 이것은 print형태와 다른 형식. \n",
    "# 참고. list는 사이사이에 쉼표가 찍히나, np는 그 사이에 쉼표가 없다. (print 형태 구분)"
   ]
  },
  {
   "cell_type": "markdown",
   "metadata": {},
   "source": [
    "### (3) list 타입으로 역 변환\n",
    "\n",
    "서로 호환 가능"
   ]
  },
  {
   "cell_type": "code",
   "execution_count": 16,
   "metadata": {},
   "outputs": [
    {
     "name": "stdout",
     "output_type": "stream",
     "text": [
      "<class 'list'>\n"
     ]
    },
    {
     "data": {
      "text/plain": [
       "['1.2', '3', 'True', '4']"
      ]
     },
     "execution_count": 16,
     "metadata": {},
     "output_type": "execute_result"
    }
   ],
   "source": [
    "mylist = list(arr5)\n",
    "print(type(mylist))\n",
    "mylist"
   ]
  }
 ],
 "metadata": {
  "kernelspec": {
   "display_name": "Python 3",
   "language": "python",
   "name": "python3"
  },
  "language_info": {
   "codemirror_mode": {
    "name": "ipython",
    "version": 3
   },
   "file_extension": ".py",
   "mimetype": "text/x-python",
   "name": "python",
   "nbconvert_exporter": "python",
   "pygments_lexer": "ipython3",
   "version": "3.12.0"
  }
 },
 "nbformat": 4,
 "nbformat_minor": 2
}
