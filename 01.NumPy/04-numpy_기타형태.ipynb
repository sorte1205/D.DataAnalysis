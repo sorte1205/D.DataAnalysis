{
 "cells": [
  {
   "cell_type": "markdown",
   "metadata": {},
   "source": [
    "#02. 2차원 배열\n",
    "\n",
    "2차원 배열의 생성"
   ]
  },
  {
   "cell_type": "code",
   "execution_count": 2,
   "metadata": {},
   "outputs": [],
   "source": [
    "import numpy as np"
   ]
  },
  {
   "cell_type": "code",
   "execution_count": 19,
   "metadata": {},
   "outputs": [],
   "source": [
    "# 철수의 학년-과목별 점수\n",
    "\n",
    "grade = np.array([\n",
    "    [98, 72, 80, 64],\n",
    "    [88, 90, 80, 72],\n",
    "    [92, 88, 82, 76]\n",
    "])"
   ]
  },
  {
   "cell_type": "code",
   "execution_count": 4,
   "metadata": {},
   "outputs": [
    {
     "data": {
      "text/plain": [
       "2"
      ]
     },
     "execution_count": 4,
     "metadata": {},
     "output_type": "execute_result"
    }
   ],
   "source": [
    "grade.ndim"
   ]
  },
  {
   "cell_type": "markdown",
   "metadata": {},
   "source": [
    "원소의 데이터 타입"
   ]
  },
  {
   "cell_type": "code",
   "execution_count": 5,
   "metadata": {},
   "outputs": [
    {
     "data": {
      "text/plain": [
       "dtype('int32')"
      ]
     },
     "execution_count": 5,
     "metadata": {},
     "output_type": "execute_result"
    }
   ],
   "source": [
    "grade.dtype"
   ]
  },
  {
   "cell_type": "markdown",
   "metadata": {},
   "source": [
    "### 2차원 배열의 기초 통계량\n",
    "\n",
    "### (1) 각 열끼리 더함 (세로로 덧셈)\n",
    "\n",
    "결과 타입은 numpy의 1차 배열"
   ]
  },
  {
   "cell_type": "code",
   "execution_count": 7,
   "metadata": {},
   "outputs": [
    {
     "name": "stdout",
     "output_type": "stream",
     "text": [
      "<class 'numpy.ndarray'>\n"
     ]
    },
    {
     "data": {
      "text/plain": [
       "array([278, 250, 242, 206])"
      ]
     },
     "execution_count": 7,
     "metadata": {},
     "output_type": "execute_result"
    }
   ],
   "source": [
    "s1 = np.sum(grade, axis=0)  \n",
    "print(type(s1))\n",
    "s1"
   ]
  },
  {
   "cell_type": "markdown",
   "metadata": {},
   "source": [
    "### (2) 각 행끼리 더함 (가로로 덧셈)"
   ]
  },
  {
   "cell_type": "code",
   "execution_count": 8,
   "metadata": {},
   "outputs": [
    {
     "name": "stdout",
     "output_type": "stream",
     "text": [
      "<class 'numpy.ndarray'>\n"
     ]
    },
    {
     "data": {
      "text/plain": [
       "array([314, 330, 332])"
      ]
     },
     "execution_count": 8,
     "metadata": {},
     "output_type": "execute_result"
    }
   ],
   "source": [
    "s2 = np.sum(grade, axis=1)\n",
    "print(type(s2))\n",
    "s2"
   ]
  },
  {
   "cell_type": "markdown",
   "metadata": {},
   "source": [
    "### [4] 조건검색\n",
    "#### (1) boolean 타입으로 인덱싱"
   ]
  },
  {
   "cell_type": "code",
   "execution_count": 9,
   "metadata": {},
   "outputs": [
    {
     "data": {
      "text/plain": [
       "array([98, 80, 88, 90, 80, 92, 88, 82])"
      ]
     },
     "execution_count": 9,
     "metadata": {},
     "output_type": "execute_result"
    }
   ],
   "source": [
    "bool_array = np.array([\n",
    "    [True, False, True, False],\n",
    "    [True, True, True, False],\n",
    "    [True, True, True, False]\n",
    "])\n",
    "\n",
    "# 조건에 맞는 항목만 1차 배열로 추출\n",
    "result1 = grade[bool_array]\n",
    "result1"
   ]
  },
  {
   "cell_type": "markdown",
   "metadata": {},
   "source": [
    "### (2) 비교식에 의한 검색\n",
    "80점 이상인지 판별하여 조건에 맞는 데이터만 추려냄"
   ]
  },
  {
   "cell_type": "code",
   "execution_count": 16,
   "metadata": {},
   "outputs": [
    {
     "data": {
      "text/plain": [
       "array([98, 80, 88, 90, 80, 92, 88, 82])"
      ]
     },
     "execution_count": 16,
     "metadata": {},
     "output_type": "execute_result"
    }
   ],
   "source": [
    "result2 = grade[grade >= 80]\n",
    "result2"
   ]
  },
  {
   "cell_type": "markdown",
   "metadata": {},
   "source": [
    "### (3) AND 검색"
   ]
  },
  {
   "cell_type": "code",
   "execution_count": 17,
   "metadata": {},
   "outputs": [
    {
     "data": {
      "text/plain": [
       "array([80, 88, 90, 80, 88, 82])"
      ]
     },
     "execution_count": 17,
     "metadata": {},
     "output_type": "execute_result"
    }
   ],
   "source": [
    "result3 = grade[np.logical_and(grade>=80, grade<=90)]\n",
    "result3"
   ]
  },
  {
   "cell_type": "markdown",
   "metadata": {},
   "source": [
    "### (4) OR 검색"
   ]
  },
  {
   "cell_type": "code",
   "execution_count": 18,
   "metadata": {},
   "outputs": [
    {
     "data": {
      "text/plain": [
       "array([98, 72, 64, 72, 92, 70])"
      ]
     },
     "execution_count": 18,
     "metadata": {},
     "output_type": "execute_result"
    }
   ],
   "source": [
    "result4 = grade[np.logical_or(grade<80, grade>90)]\n",
    "result4"
   ]
  },
  {
   "cell_type": "markdown",
   "metadata": {},
   "source": [
    "## #03. 정형화된 배열 생성\n",
    "\n",
    "### [1] 모든 원소가 '0'인 배열"
   ]
  },
  {
   "cell_type": "code",
   "execution_count": 11,
   "metadata": {},
   "outputs": [
    {
     "data": {
      "text/plain": [
       "array([[0., 0., 0., 0.],\n",
       "       [0., 0., 0., 0.],\n",
       "       [0., 0., 0., 0.]])"
      ]
     },
     "execution_count": 11,
     "metadata": {},
     "output_type": "execute_result"
    }
   ],
   "source": [
    "a = np.zeros([3, 4])    # 리스트나 튜플로 두 번 감싸 2차원임을 말해줘야함.\n",
    "a"
   ]
  },
  {
   "cell_type": "markdown",
   "metadata": {},
   "source": [
    "### [2] 모든 원소가 '2'인 배열"
   ]
  },
  {
   "cell_type": "code",
   "execution_count": 13,
   "metadata": {},
   "outputs": [
    {
     "data": {
      "text/plain": [
       "array([[1., 1., 1., 1.],\n",
       "       [1., 1., 1., 1.],\n",
       "       [1., 1., 1., 1.]])"
      ]
     },
     "execution_count": 13,
     "metadata": {},
     "output_type": "execute_result"
    }
   ],
   "source": [
    "np.ones([3,4])"
   ]
  },
  {
   "cell_type": "markdown",
   "metadata": {},
   "source": [
    "### [3] 모든 원소가 특정값인 배열"
   ]
  },
  {
   "cell_type": "code",
   "execution_count": 14,
   "metadata": {},
   "outputs": [
    {
     "data": {
      "text/plain": [
       "array([[10, 10, 10, 10],\n",
       "       [10, 10, 10, 10],\n",
       "       [10, 10, 10, 10]])"
      ]
     },
     "execution_count": 14,
     "metadata": {},
     "output_type": "execute_result"
    }
   ],
   "source": [
    "np.full([3,4], 10)"
   ]
  },
  {
   "cell_type": "markdown",
   "metadata": {},
   "source": [
    "### [4] 단위행렬\n",
    "\n",
    "대각선으로 '1'이고 나머지 원소는 모두 '0'인 배열"
   ]
  },
  {
   "cell_type": "code",
   "execution_count": 15,
   "metadata": {},
   "outputs": [
    {
     "data": {
      "text/plain": [
       "array([[1., 0., 0., 0.],\n",
       "       [0., 1., 0., 0.],\n",
       "       [0., 0., 1., 0.],\n",
       "       [0., 0., 0., 1.]])"
      ]
     },
     "execution_count": 15,
     "metadata": {},
     "output_type": "execute_result"
    }
   ],
   "source": [
    "np.eye(4)"
   ]
  },
  {
   "cell_type": "markdown",
   "metadata": {},
   "source": [
    "### 0부터 1까지"
   ]
  },
  {
   "cell_type": "markdown",
   "metadata": {},
   "source": [
    "4행 3열인 2차원 배열"
   ]
  },
  {
   "cell_type": "code",
   "execution_count": 20,
   "metadata": {},
   "outputs": [
    {
     "data": {
      "text/plain": [
       "array([[0.22949867, 0.79984938, 0.28022673],\n",
       "       [0.89761487, 0.10744467, 0.37782014],\n",
       "       [0.94923482, 0.62628291, 0.61183901],\n",
       "       [0.15706972, 0.92472612, 0.3670534 ]])"
      ]
     },
     "execution_count": 20,
     "metadata": {},
     "output_type": "execute_result"
    }
   ],
   "source": [
    "np.random.rand(4,3)"
   ]
  },
  {
   "cell_type": "markdown",
   "metadata": {},
   "source": [
    "### [2] 주어진 범위 안에서 정수값을 갖는 랜덤 배열\n",
    "\n",
    "#### 0부터 9사이의 랜덤값 10개의 원소를 갖는 1차원 배열"
   ]
  },
  {
   "cell_type": "code",
   "execution_count": 21,
   "metadata": {},
   "outputs": [
    {
     "data": {
      "text/plain": [
       "array([7, 2, 8, 7, 5, 4, 6, 7, 5, 4])"
      ]
     },
     "execution_count": 21,
     "metadata": {},
     "output_type": "execute_result"
    }
   ],
   "source": [
    "np.random.randint(0,9,10)"
   ]
  },
  {
   "cell_type": "markdown",
   "metadata": {},
   "source": [
    "#### 0부터 9사이의 랜덤값을 갖는 3행 4열의 2차 배열"
   ]
  },
  {
   "cell_type": "code",
   "execution_count": 22,
   "metadata": {},
   "outputs": [
    {
     "data": {
      "text/plain": [
       "array([[2, 2, 7, 8],\n",
       "       [3, 2, 5, 8],\n",
       "       [4, 0, 4, 0]])"
      ]
     },
     "execution_count": 22,
     "metadata": {},
     "output_type": "execute_result"
    }
   ],
   "source": [
    "np.random.randint(0,9,(3,4))"
   ]
  },
  {
   "cell_type": "markdown",
   "metadata": {},
   "source": [
    "### [3] 표준 정규 분포를 따르는 랜덤 배열\n",
    "\n",
    "#### 1차원 배열"
   ]
  },
  {
   "cell_type": "code",
   "execution_count": 23,
   "metadata": {},
   "outputs": [
    {
     "data": {
      "text/plain": [
       "array([ 1.21781764,  0.71155653, -1.3693391 , -0.80942755,  0.43215672,\n",
       "        1.4410116 ,  0.6756953 , -0.82551528, -0.45933844,  0.41170505])"
      ]
     },
     "execution_count": 23,
     "metadata": {},
     "output_type": "execute_result"
    }
   ],
   "source": [
    "np.random.randn(10)"
   ]
  },
  {
   "cell_type": "markdown",
   "metadata": {},
   "source": [
    "#### 2차원 배열"
   ]
  },
  {
   "cell_type": "code",
   "execution_count": 24,
   "metadata": {},
   "outputs": [
    {
     "data": {
      "text/plain": [
       "array([[-0.85764716,  0.0215656 ,  0.94156154],\n",
       "       [ 0.09266179,  0.3788998 , -0.27408569],\n",
       "       [ 0.40068207, -0.14654044,  0.37841838],\n",
       "       [ 0.8689491 , -0.25437014,  0.58498443]])"
      ]
     },
     "execution_count": 24,
     "metadata": {},
     "output_type": "execute_result"
    }
   ],
   "source": [
    "np.random.randn(4, 3)"
   ]
  },
  {
   "cell_type": "markdown",
   "metadata": {},
   "source": [
    "### [4] 정규분포를 직접 설정\n",
    "\n",
    "#### 1차원 배열\n",
    "\n",
    "평균은 '0', 표준편차 '1'의 정규 분포에서 10개의 수를 추출"
   ]
  },
  {
   "cell_type": "code",
   "execution_count": 25,
   "metadata": {},
   "outputs": [
    {
     "data": {
      "text/plain": [
       "array([-0.01750189, -0.69379964,  0.5737231 , -0.83831786, -0.10570577,\n",
       "       -0.12426361,  0.34547835, -0.23362465, -2.41234758, -0.54479155])"
      ]
     },
     "execution_count": 25,
     "metadata": {},
     "output_type": "execute_result"
    }
   ],
   "source": [
    "np.random.normal(0, 1, 10)"
   ]
  },
  {
   "cell_type": "markdown",
   "metadata": {},
   "source": [
    "#### 2차원 배열"
   ]
  },
  {
   "cell_type": "code",
   "execution_count": 26,
   "metadata": {},
   "outputs": [
    {
     "data": {
      "text/plain": [
       "array([[-0.31234522,  0.65831692,  0.89585062],\n",
       "       [-0.35962565, -0.04306933, -1.06091129],\n",
       "       [-0.58867707, -0.29556649, -0.27898196],\n",
       "       [ 1.35524812, -0.52550356,  0.33303884]])"
      ]
     },
     "execution_count": 26,
     "metadata": {},
     "output_type": "execute_result"
    }
   ],
   "source": [
    "np.random.normal(0,1,(4,3))"
   ]
  },
  {
   "cell_type": "markdown",
   "metadata": {},
   "source": [
    "### [5] 랜덤값 고정\n",
    "\n",
    "랜덤이란 사전에 잘 섞여 있는 숫자 셋을 순차적으로 꺼내는 것을 의미\n",
    "\n",
    "랜덤시드는 몇 번째 숫자셋인지를 의미하는 값\n",
    "\n",
    "이 값을 고정하면 특정 숫자셋만 사용하라는 의미"
   ]
  },
  {
   "cell_type": "code",
   "execution_count": 28,
   "metadata": {},
   "outputs": [
    {
     "data": {
      "text/plain": [
       "array([[-0.46820879, -0.82282485, -0.0653801 ],\n",
       "       [-0.71336192,  0.90635089,  0.76623673],\n",
       "       [ 0.82605407, -1.32368279, -1.75244452],\n",
       "       [ 1.00244907,  0.54480945,  1.8951609 ]])"
      ]
     },
     "execution_count": 28,
     "metadata": {},
     "output_type": "execute_result"
    }
   ],
   "source": [
    "np.random.seed(777)\n",
    "np.random.normal(0, 1, (4, 3))      # 여러번 실행해도 같은 숫자 세트가 나옴"
   ]
  }
 ],
 "metadata": {
  "kernelspec": {
   "display_name": "Python 3",
   "language": "python",
   "name": "python3"
  },
  "language_info": {
   "codemirror_mode": {
    "name": "ipython",
    "version": 3
   },
   "file_extension": ".py",
   "mimetype": "text/x-python",
   "name": "python",
   "nbconvert_exporter": "python",
   "pygments_lexer": "ipython3",
   "version": "3.12.0"
  }
 },
 "nbformat": 4,
 "nbformat_minor": 2
}
