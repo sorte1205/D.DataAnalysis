{
 "cells": [
  {
   "cell_type": "markdown",
   "metadata": {},
   "source": [
    "## #01. 준비과정\n",
    "[1]패키지 참조"
   ]
  },
  {
   "cell_type": "code",
   "execution_count": 1,
   "metadata": {},
   "outputs": [],
   "source": [
    "import numpy as np"
   ]
  },
  {
   "cell_type": "markdown",
   "metadata": {},
   "source": [
    "## #02. 기초 통계량 산출(최대, 최소 합계 평균 등)\n",
    "\n",
    "### [1] 기본 통계 기호\n",
    "|기호|LaTex|의미|\n",
    "|--|--|--|\n",
    "|$\\Omega$|'\\Omega'|모집단|\n",
    "|$\\mu$|'\\mu'|모평균(모집단의 평균, 모수)|\n",
    "|$\\sigma$|'\\sigma'|모표준편차(모집단의 표준편차)|\n",
    "|$\\sigma^2$|\\sigma^2|모표준편차(모집단의 표준편차)|\n",
    "|$\\bar{X}$|'\\bar{X}'|표본평균(표본집단의 평균)|\n",
    "|$s$|s|표본표준편차(표본집단의 표준편차)|\n",
    "|$s^2$|s^2|표본분산(표본집단의 표준분산)|\n",
    "|$n$|n|표본크기(표본집단의 데이터 수)|\n",
    "|$\\sum$|\\sum|합계|\n",
    "\n",
    "\n",
    "[1] 1차원 데이터의 경우\n",
    "\n",
    "(1) 샘플 데이터"
   ]
  },
  {
   "cell_type": "code",
   "execution_count": 2,
   "metadata": {},
   "outputs": [
    {
     "data": {
      "text/plain": [
       "array([98, 72, 80, 64])"
      ]
     },
     "execution_count": 2,
     "metadata": {},
     "output_type": "execute_result"
    }
   ],
   "source": [
    "myarr = np.array([98, 72, 80, 64])\n",
    "myarr"
   ]
  },
  {
   "cell_type": "markdown",
   "metadata": {},
   "source": [
    "#### (2) 최대, 최소, 합계, 평균값"
   ]
  },
  {
   "cell_type": "code",
   "execution_count": 3,
   "metadata": {},
   "outputs": [
    {
     "name": "stdout",
     "output_type": "stream",
     "text": [
      "최대값: 98\n",
      "최소값: 64\n",
      "합계: 314\n",
      "평균: 78.5\n"
     ]
    }
   ],
   "source": [
    "print(\"최대값:\", np.max(myarr))\n",
    "print(\"최소값:\", np.min(myarr))\n",
    "print(\"합계:\", np.sum(myarr))\n",
    "print(\"평균:\", np.average(myarr))"
   ]
  },
  {
   "cell_type": "markdown",
   "metadata": {},
   "source": [
    "#### (3) 분산, 표준편차\n",
    "\n",
    "|구분|설명|\n",
    "|--|--|\n",
    "|편차|관측값($y$) (=실제 값, 조사된 값)에서 평균을 뺀 값|\n",
    "|분산|편차 제곱의 평균|\n",
    "\n",
    "##### 편차\n",
    "관측값 ($y$) (=실제 값, 조사된 값)에서 평균($\\bar{y}$)을 뺀 값\n",
    "\n",
    "$d  = y - \\bar{y}$      \n",
    "\n",
    "##### 분산\n",
    "편차 제곱의 평균\n",
    "\n",
    "$\\bar{d^2}$"
   ]
  },
  {
   "cell_type": "markdown",
   "metadata": {},
   "source": []
  },
  {
   "cell_type": "code",
   "execution_count": 4,
   "metadata": {},
   "outputs": [
    {
     "name": "stdout",
     "output_type": "stream",
     "text": [
      "분산: 158.75\n",
      "표준편차: 12.599603168354152\n"
     ]
    }
   ],
   "source": [
    "print(\"분산:\", np.var(myarr))\n",
    "print(\"표준편차:\", np.std(myarr))"
   ]
  },
  {
   "cell_type": "markdown",
   "metadata": {},
   "source": [
    "## #02. 연산기능\n",
    "\n",
    "### [1] 연산자를 사용한 배열간의 연산"
   ]
  },
  {
   "cell_type": "code",
   "execution_count": 20,
   "metadata": {},
   "outputs": [
    {
     "name": "stdout",
     "output_type": "stream",
     "text": [
      "[10 15 20 25 30]\n",
      "[2 3 4 5 6]\n"
     ]
    }
   ],
   "source": [
    "arr1 = np.array([10, 15, 20, 25, 30])\n",
    "arr2 = np.array([2,3,4,5,6])\n",
    "print(arr1)\n",
    "print(arr2)"
   ]
  },
  {
   "cell_type": "code",
   "execution_count": 21,
   "metadata": {},
   "outputs": [
    {
     "data": {
      "text/plain": [
       "array([12, 18, 24, 30, 36])"
      ]
     },
     "execution_count": 21,
     "metadata": {},
     "output_type": "execute_result"
    }
   ],
   "source": [
    "a = arr1 + arr2\n",
    "a"
   ]
  },
  {
   "cell_type": "code",
   "execution_count": 22,
   "metadata": {},
   "outputs": [
    {
     "data": {
      "text/plain": [
       "array([ 8, 12, 16, 20, 24])"
      ]
     },
     "execution_count": 22,
     "metadata": {},
     "output_type": "execute_result"
    }
   ],
   "source": [
    "b = arr1 - arr2\n",
    "b"
   ]
  },
  {
   "cell_type": "code",
   "execution_count": 23,
   "metadata": {},
   "outputs": [
    {
     "data": {
      "text/plain": [
       "array([ 20,  45,  80, 125, 180])"
      ]
     },
     "execution_count": 23,
     "metadata": {},
     "output_type": "execute_result"
    }
   ],
   "source": [
    "c = arr1 * arr2\n",
    "c"
   ]
  },
  {
   "cell_type": "code",
   "execution_count": 24,
   "metadata": {},
   "outputs": [
    {
     "data": {
      "text/plain": [
       "array([5., 5., 5., 5., 5.])"
      ]
     },
     "execution_count": 24,
     "metadata": {},
     "output_type": "execute_result"
    }
   ],
   "source": [
    "d = arr1/arr2\n",
    "d"
   ]
  },
  {
   "cell_type": "markdown",
   "metadata": {},
   "source": [
    "### [2] Numpy 패키지의 함수 사용"
   ]
  },
  {
   "cell_type": "code",
   "execution_count": 6,
   "metadata": {},
   "outputs": [
    {
     "name": "stdout",
     "output_type": "stream",
     "text": [
      "[10 15 20 25 30]\n",
      "[2 3 4 5 6]\n"
     ]
    }
   ],
   "source": [
    "arr1 = np.array([10, 15, 20, 25, 30])\n",
    "arr2 = np.array([2,3,4,5,6])\n",
    "print(arr1)\n",
    "print(arr2)"
   ]
  },
  {
   "cell_type": "code",
   "execution_count": 7,
   "metadata": {},
   "outputs": [
    {
     "data": {
      "text/plain": [
       "array([12, 18, 24, 30, 36])"
      ]
     },
     "execution_count": 7,
     "metadata": {},
     "output_type": "execute_result"
    }
   ],
   "source": [
    "a = np.add(arr1, arr2)\n",
    "a"
   ]
  },
  {
   "cell_type": "code",
   "execution_count": 8,
   "metadata": {},
   "outputs": [
    {
     "data": {
      "text/plain": [
       "array([ 8, 12, 16, 20, 24])"
      ]
     },
     "execution_count": 8,
     "metadata": {},
     "output_type": "execute_result"
    }
   ],
   "source": [
    "b = np.subtract(arr1, arr2)\n",
    "b"
   ]
  },
  {
   "cell_type": "code",
   "execution_count": 10,
   "metadata": {},
   "outputs": [
    {
     "data": {
      "text/plain": [
       "array([ 20,  45,  80, 125, 180])"
      ]
     },
     "execution_count": 10,
     "metadata": {},
     "output_type": "execute_result"
    }
   ],
   "source": [
    "c = np.multiply(arr1, arr2)\n",
    "c"
   ]
  },
  {
   "cell_type": "code",
   "execution_count": 12,
   "metadata": {},
   "outputs": [
    {
     "data": {
      "text/plain": [
       "array([5., 5., 5., 5., 5.])"
      ]
     },
     "execution_count": 12,
     "metadata": {},
     "output_type": "execute_result"
    }
   ],
   "source": [
    "d = np.divide(arr1, arr2)\n",
    "d"
   ]
  },
  {
   "cell_type": "markdown",
   "metadata": {},
   "source": [
    "## #03. 기초 통계량 산출(최대, 최소, 합계, 평균 등)\n",
    "### [1] 1차원 데이터의 경우\n",
    "#### (1) 샘플 데이터"
   ]
  },
  {
   "cell_type": "code",
   "execution_count": 25,
   "metadata": {},
   "outputs": [
    {
     "data": {
      "text/plain": [
       "array([98, 72, 80, 64])"
      ]
     },
     "execution_count": 25,
     "metadata": {},
     "output_type": "execute_result"
    }
   ],
   "source": [
    "myarr = np.array([98, 72, 80, 64])\n",
    "myarr"
   ]
  },
  {
   "cell_type": "markdown",
   "metadata": {},
   "source": [
    "#### (2) 최대, 최소, 합계, 평균값"
   ]
  },
  {
   "cell_type": "code",
   "execution_count": 26,
   "metadata": {},
   "outputs": [
    {
     "name": "stdout",
     "output_type": "stream",
     "text": [
      "최대값: 98\n",
      "최소값: 64\n",
      "합계: 314\n",
      "평균: 78.5\n"
     ]
    }
   ],
   "source": [
    "print(\"최대값:\", np.max(myarr))\n",
    "print(\"최소값:\", np.min(myarr))\n",
    "print(\"합계:\", np.sum(myarr))\n",
    "print(\"평균:\", np.average(myarr))"
   ]
  },
  {
   "cell_type": "markdown",
   "metadata": {},
   "source": [
    "### (3) 분산, 표준편차\n",
    "#### 편차(d)\n",
    "#### 관측값(y) (=실제값, 조사된 값)에서 관측값의 평균을 뺀 값\n",
    "\n",
    "$d = y-\\bar{y}$\n",
    "\n",
    "관측치가 평균과 얼만큼의 차이가 있는지 알아보기 위한 값이다.\n",
    "편차의 총 합은 항상 0이다.\n",
    "\n",
    "분산\n",
    "편차 제곱의 평균\n",
    "${\\sigma^2} = \\bar{d^2}$\n",
    "\n",
    "각 데이터가 평균에서 얼마나 멀리 떨어져 있는가를 측정하는 값\n",
    "\n",
    "편차는 총 합이 0이기 때문에 평균을 낼 경우 큰 의미가 없다. 또한 분산은 관측치가 평균으로부터 얼마나 멀리 떨어져 있는가를 의미하는 값이기 때문에 양수인가 음수인가는 그다지 중요하지 않다.\n",
    "\n",
    "따라서 편차의 합이 0이 되는 문제를 해결하기 위하여 편차의 음의 부호를 제거하는 방법이 필요한데 그 대표적인 값이 절대값과 제곱이다.\n",
    "\n",
    "일반적으로 절대값은 기호 사용의 불편함과 함께 식의 계산 또는 변형이 어려워 식이 가지는 성질을 찾아내기가 어렵기 때문에 잘 사용하지 않고 제곱을 사용하여 ${편차^2}$\n",
    "의 총 합을 변량의 개수로 나눈 값을 구한다."
   ]
  },
  {
   "cell_type": "code",
   "execution_count": 28,
   "metadata": {},
   "outputs": [
    {
     "name": "stdout",
     "output_type": "stream",
     "text": [
      "분산: 158.75\n"
     ]
    }
   ],
   "source": [
    "print(\"분산:\", np.var(myarr))"
   ]
  },
  {
   "cell_type": "markdown",
   "metadata": {},
   "source": [
    "표준편차\n",
    "분산만으로도 데이터의 산포도를 확인할 수 있지만 제곱을 했기 때문에 관측치보다 매우 큰 값이 된다. 그러므로 관측치와 단위를 같게 하기 위해 다시 제곱근을 구할 필요가 있는데 이 값이 표준편차 이다.\n",
    "\n",
    "${\\sigma}={}$"
   ]
  },
  {
   "cell_type": "markdown",
   "metadata": {},
   "source": [
    "## #04. 조건에 맞는 값 추출하기\n",
    "\n",
    "### [1] 원하는 위치의 값 추출"
   ]
  },
  {
   "cell_type": "code",
   "execution_count": 27,
   "metadata": {},
   "outputs": [],
   "source": [
    "# 철수의 1학년~4학년까지의 평균 점수\n",
    "grade = np.array([82, 77, 91, 88])"
   ]
  },
  {
   "cell_type": "code",
   "execution_count": 14,
   "metadata": {},
   "outputs": [
    {
     "data": {
      "text/plain": [
       "array([ True, False,  True, False])"
      ]
     },
     "execution_count": 14,
     "metadata": {},
     "output_type": "execute_result"
    }
   ],
   "source": [
    "# -> 추출하고자 하는 원본과 같은 사이즈의 배열 생성\n",
    "# -> 추출할 값은 True, 그렇지 않으면 False\n",
    "bool_array = np.array([True, False, True, False])\n",
    "bool_array"
   ]
  },
  {
   "cell_type": "code",
   "execution_count": 15,
   "metadata": {},
   "outputs": [
    {
     "data": {
      "text/plain": [
       "array([82, 91])"
      ]
     },
     "execution_count": 15,
     "metadata": {},
     "output_type": "execute_result"
    }
   ],
   "source": [
    "# -> 조건에 맞는 항목만 1차 배열로 추출\n",
    "result1 = grade[bool_array]\n",
    "result1"
   ]
  },
  {
   "cell_type": "markdown",
   "metadata": {},
   "source": [
    "### [2] 조건에 맞는 원소 추출\n",
    "\n",
    "80점 이상인 원소를 추출하시오"
   ]
  },
  {
   "cell_type": "code",
   "execution_count": 16,
   "metadata": {},
   "outputs": [
    {
     "data": {
      "text/plain": [
       "array([82, 91, 88])"
      ]
     },
     "execution_count": 16,
     "metadata": {},
     "output_type": "execute_result"
    }
   ],
   "source": [
    "result2 = grade[grade >= 80]\n",
    "result2"
   ]
  },
  {
   "cell_type": "markdown",
   "metadata": {},
   "source": [
    "#### 80점 이상이고 90점 이하인 데이터만 추려냄"
   ]
  },
  {
   "cell_type": "code",
   "execution_count": 17,
   "metadata": {},
   "outputs": [
    {
     "data": {
      "text/plain": [
       "array([82, 88])"
      ]
     },
     "execution_count": 17,
     "metadata": {},
     "output_type": "execute_result"
    }
   ],
   "source": [
    "result3 = grade[np.logical_and(grade>=80, grade<=90)]\n",
    "result3"
   ]
  },
  {
   "cell_type": "markdown",
   "metadata": {},
   "source": [
    "#### 80점 미만이거나 90점 초과인 데이터만 추려냄"
   ]
  },
  {
   "cell_type": "code",
   "execution_count": 19,
   "metadata": {},
   "outputs": [
    {
     "data": {
      "text/plain": [
       "array([82, 77, 91, 88])"
      ]
     },
     "execution_count": 19,
     "metadata": {},
     "output_type": "execute_result"
    }
   ],
   "source": [
    "result4 = grade[np.logical_or(grade>=80, grade<=90)]\n",
    "result4"
   ]
  }
 ],
 "metadata": {
  "kernelspec": {
   "display_name": "Python 3",
   "language": "python",
   "name": "python3"
  },
  "language_info": {
   "codemirror_mode": {
    "name": "ipython",
    "version": 3
   },
   "file_extension": ".py",
   "mimetype": "text/x-python",
   "name": "python",
   "nbconvert_exporter": "python",
   "pygments_lexer": "ipython3",
   "version": "3.12.0"
  }
 },
 "nbformat": 4,
 "nbformat_minor": 2
}
