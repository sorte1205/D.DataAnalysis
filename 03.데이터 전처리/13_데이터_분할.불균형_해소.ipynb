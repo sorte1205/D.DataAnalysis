{
 "cells": [
  {
   "cell_type": "markdown",
   "metadata": {},
   "source": [
    "# 데이터 분할, 불균형 해소\n",
    "\n",
    "머신러닝을 통해 분석 모델을 적용하기 전 수집된 데이터가 분석 모델을 적용하는데 적합하도록 분할하고 데이터의 비율을 균일하게 조정하는 고급 전처리 기법\n",
    "\n",
    "## #01. 준비과정\n",
    "\n",
    "### [1] 주요 개념 정리\n",
    "\n",
    "#### 1) 독립변수($x$)\n",
    "\n",
    "- 결과를 예측하는데 필요한 조건값\n",
    "- 일반적인 $y = ax + b$ 방정식에서 $x$에 해당함\n",
    "- `○○이 ■■에 주는 영향`에서 `○○`에 해당\n",
    "- `설명변수`라고 부르기도 함\n",
    "\n",
    "#### 2) 종속변수($y$)\n",
    "\n",
    "- 머신러닝이 예측하고자 하는 결과값\n",
    "- 일반적인 $y = ax + b$ 방정식에서 $y$에 해당함\n",
    "- `○○이 ■■에 주는 영향`에서 `■■`에 해당\n",
    "- `반응변수`라고 부르기도 함\n",
    "\n",
    "> 추후 뒤에서 좀 더 자세하게 설명합니다.\n",
    "\n",
    "### [2] 패키지 참조\n",
    "\n",
    "`imblearn` 패키지의 설치가 필요하다.\n"
   ]
  },
  {
   "cell_type": "code",
   "execution_count": 1,
   "metadata": {},
   "outputs": [],
   "source": [
    "from pandas import read_excel\n",
    "from sklearn.model_selection import train_test_split\n",
    "from imblearn.under_sampling import RandomUnderSampler\n",
    "from imblearn.over_sampling import RandomOverSampler, SMOTE"
   ]
  },
  {
   "cell_type": "markdown",
   "metadata": {},
   "source": [
    "### [3] 샘플 데이터 가져오기"
   ]
  },
  {
   "cell_type": "code",
   "execution_count": 2,
   "metadata": {},
   "outputs": [
    {
     "data": {
      "text/html": [
       "<div>\n",
       "<style scoped>\n",
       "    .dataframe tbody tr th:only-of-type {\n",
       "        vertical-align: middle;\n",
       "    }\n",
       "\n",
       "    .dataframe tbody tr th {\n",
       "        vertical-align: top;\n",
       "    }\n",
       "\n",
       "    .dataframe thead th {\n",
       "        text-align: right;\n",
       "    }\n",
       "</style>\n",
       "<table border=\"1\" class=\"dataframe\">\n",
       "  <thead>\n",
       "    <tr style=\"text-align: right;\">\n",
       "      <th></th>\n",
       "      <th>합격여부</th>\n",
       "      <th>필기점수</th>\n",
       "      <th>학부성적</th>\n",
       "      <th>병원경력</th>\n",
       "    </tr>\n",
       "  </thead>\n",
       "  <tbody>\n",
       "    <tr>\n",
       "      <th>0</th>\n",
       "      <td>0</td>\n",
       "      <td>380</td>\n",
       "      <td>3.61</td>\n",
       "      <td>3</td>\n",
       "    </tr>\n",
       "    <tr>\n",
       "      <th>1</th>\n",
       "      <td>1</td>\n",
       "      <td>660</td>\n",
       "      <td>3.67</td>\n",
       "      <td>3</td>\n",
       "    </tr>\n",
       "    <tr>\n",
       "      <th>2</th>\n",
       "      <td>1</td>\n",
       "      <td>800</td>\n",
       "      <td>4.00</td>\n",
       "      <td>1</td>\n",
       "    </tr>\n",
       "    <tr>\n",
       "      <th>3</th>\n",
       "      <td>1</td>\n",
       "      <td>640</td>\n",
       "      <td>3.19</td>\n",
       "      <td>4</td>\n",
       "    </tr>\n",
       "    <tr>\n",
       "      <th>4</th>\n",
       "      <td>0</td>\n",
       "      <td>520</td>\n",
       "      <td>2.93</td>\n",
       "      <td>4</td>\n",
       "    </tr>\n",
       "    <tr>\n",
       "      <th>...</th>\n",
       "      <td>...</td>\n",
       "      <td>...</td>\n",
       "      <td>...</td>\n",
       "      <td>...</td>\n",
       "    </tr>\n",
       "    <tr>\n",
       "      <th>395</th>\n",
       "      <td>0</td>\n",
       "      <td>620</td>\n",
       "      <td>4.00</td>\n",
       "      <td>2</td>\n",
       "    </tr>\n",
       "    <tr>\n",
       "      <th>396</th>\n",
       "      <td>0</td>\n",
       "      <td>560</td>\n",
       "      <td>3.04</td>\n",
       "      <td>3</td>\n",
       "    </tr>\n",
       "    <tr>\n",
       "      <th>397</th>\n",
       "      <td>0</td>\n",
       "      <td>460</td>\n",
       "      <td>2.63</td>\n",
       "      <td>2</td>\n",
       "    </tr>\n",
       "    <tr>\n",
       "      <th>398</th>\n",
       "      <td>0</td>\n",
       "      <td>700</td>\n",
       "      <td>3.65</td>\n",
       "      <td>2</td>\n",
       "    </tr>\n",
       "    <tr>\n",
       "      <th>399</th>\n",
       "      <td>0</td>\n",
       "      <td>600</td>\n",
       "      <td>3.89</td>\n",
       "      <td>3</td>\n",
       "    </tr>\n",
       "  </tbody>\n",
       "</table>\n",
       "<p>400 rows × 4 columns</p>\n",
       "</div>"
      ],
      "text/plain": [
       "     합격여부  필기점수  학부성적  병원경력\n",
       "0       0   380  3.61     3\n",
       "1       1   660  3.67     3\n",
       "2       1   800  4.00     1\n",
       "3       1   640  3.19     4\n",
       "4       0   520  2.93     4\n",
       "..    ...   ...   ...   ...\n",
       "395     0   620  4.00     2\n",
       "396     0   560  3.04     3\n",
       "397     0   460  2.63     2\n",
       "398     0   700  3.65     2\n",
       "399     0   600  3.89     3\n",
       "\n",
       "[400 rows x 4 columns]"
      ]
     },
     "execution_count": 2,
     "metadata": {},
     "output_type": "execute_result"
    }
   ],
   "source": [
    "origin = read_excel('https://data.hossam.kr/pydata/gradeuate.xlsx')\n",
    "origin"
   ]
  },
  {
   "cell_type": "markdown",
   "metadata": {},
   "source": [
    "## #02. 데이터 분할\n",
    "\n",
    "### [1] 독립변수, 종속변수 분리하기"
   ]
  },
  {
   "cell_type": "code",
   "execution_count": 3,
   "metadata": {},
   "outputs": [
    {
     "data": {
      "text/plain": [
       "((400, 3), (400,))"
      ]
     },
     "execution_count": 3,
     "metadata": {},
     "output_type": "execute_result"
    }
   ],
   "source": [
    "x = origin.drop(['합격여부'], axis=1)\n",
    "y = origin['합격여부']\n",
    "x.shape, y.shape"
   ]
  },
  {
   "cell_type": "markdown",
   "metadata": {},
   "source": [
    "### [2] 훈련데이터와 검증데이터 분할하기\n",
    "\n",
    "| 구분 | 설명 |\n",
    "|---|---|\n",
    "| 훈련데이터 | 머신러닝이 학습에 활용하기 위한 데이터 |\n",
    "| 검증데이터 | 머신러닝의 학습 결과가 올바른지 검증하는데 사용되는 데이터 |\n",
    "\n",
    "일반적으로 `7(훈련):3(검증)`으로 분할한다.\n",
    "\n",
    "```python\n",
    "x_train, x_test, y_train, y_test = train_test_split(x, y, test_size=int, random_state=int)\n",
    "```\n",
    "\n",
    "| 파라미터 | 설명 |\n",
    "|---|---|\n",
    "| x | 독립변수 |\n",
    "| y | 종속변수 |\n",
    "| test_size | 검증데이터의 비율 (`0~1`) |\n",
    "| random_state | 랜덤시드 값 |"
   ]
  },
  {
   "cell_type": "markdown",
   "metadata": {},
   "source": [
    "#### 데이터 분할하기"
   ]
  },
  {
   "cell_type": "code",
   "execution_count": 4,
   "metadata": {},
   "outputs": [
    {
     "data": {
      "text/plain": [
       "((280, 3), (120, 3), (280,), (120,))"
      ]
     },
     "execution_count": 4,
     "metadata": {},
     "output_type": "execute_result"
    }
   ],
   "source": [
    "x_train, x_test, y_train, y_test = train_test_split(\n",
    "    x, y, test_size=0.3, random_state=777)\n",
    "x_train.shape, x_test.shape, y_train.shape, y_test.shape"
   ]
  },
  {
   "cell_type": "markdown",
   "metadata": {},
   "source": [
    "#### 분할된 훈련데이터의 종속변수 비율 확인"
   ]
  },
  {
   "cell_type": "code",
   "execution_count": 5,
   "metadata": {},
   "outputs": [
    {
     "data": {
      "text/plain": [
       "합격여부\n",
       "0    189\n",
       "1     91\n",
       "Name: count, dtype: int64"
      ]
     },
     "execution_count": 5,
     "metadata": {},
     "output_type": "execute_result"
    }
   ],
   "source": [
    "y_train.value_counts()"
   ]
  },
  {
   "cell_type": "markdown",
   "metadata": {},
   "source": [
    "## #03. 데이터 불균형 해소\n",
    "\n",
    "데이터를 훈련데이터와 검증데이터로 나눈 후 훈련 데이터에 대해서만 수행해야 한다.\n",
    "\n",
    "### [1] Under Sampling 방식 - Random Under Sampler\n",
    "\n",
    "많은 비율을 차지하는 다수 집단에서 일부만 샘플링하는 방식\n",
    "\n",
    "소수 집단의 데이터가 어느 정도 확보되었다고 여겨질 때, 다수 집단의 데이터를 줄여서 균형을 맞춘다.\n",
    "\n",
    "다수 집단의 유의미한 데이터를 손실할 수 있다는 단점이 있다.\n",
    "\n",
    "#### `sampling_strategy` 파라미터\n",
    "\n",
    "| 값 | 설명 |\n",
    "|--|--|\n",
    "| `majority` | 다수 클래스만 다시 샘플링 |\n",
    "| `not majority` | `다수 아님` - 다수 클래스를 제외한 모든 클래스를 다시 샘플링 |\n",
    "| `not minority` | `소수 아님`- 소수 클래스를 제외한 모든 클래스를 다시 샘플링 |\n",
    "| `all` | 모든 클래스를 다시 샘플링 |\n",
    "| `auto` | 자동 처리 |\n",
    "\n",
    "RandomUnderSampler 클래스의 주요 파라미터에 대한 설명은 다음과 같습니다:\n",
    "\n",
    "sampling_strategy: 언더샘플링을 어떻게 수행할지 결정하는 파라미터입니다.\n",
    "\n",
    "\"majority\": 다수 클래스의 샘플을 제거하여 클래스 간의 균형을 맞춥니다.\n",
    "float: 특정 클래스의 비율을 지정합니다. 예를 들어, 0.5로 설정하면 샘플을 반으로 줄입니다.\n",
    "random_state: 난수 생성 시 사용되는 시드(seed) 값입니다. 이 값을 설정하면 언더샘플링이나 다른 무작위 기능을 실행할 때 마다 동일한 결과를 얻을 수 있습니다.\n",
    "\n",
    "replacement: 기본값은 False입니다. False로 설정하면 복원 추출이 아닌 비복원 추출이 이루어집니다. True로 설정하면 복원 추출이 이루어져 샘플이 여러 번 선택될 수 있습니다.\n",
    "\n",
    "n_neighbors: 특정 클래스의 샘플을 제거할 때, 해당 클래스에서 제거할 샘플의 수를 지정합니다. 이 값이 작을수록 적은 수의 샘플이 제거됩니다.\n",
    "\n",
    "예시 코드에서 RandomUnderSampler를 생성하고 fit_resample 메서드를 사용하여 언더샘플링을 수행할 때, sampling_strategy를 \"majority\"로 설정하여 다수 클래스의 샘플을 제거합니다. 다른 파라미터는 기본값이 사용되었습니다."
   ]
  },
  {
   "cell_type": "code",
   "execution_count": 6,
   "metadata": {},
   "outputs": [
    {
     "name": "stdout",
     "output_type": "stream",
     "text": [
      "(182, 3)\n"
     ]
    },
    {
     "data": {
      "text/plain": [
       "합격여부\n",
       "0    91\n",
       "1    91\n",
       "Name: count, dtype: int64"
      ]
     },
     "execution_count": 6,
     "metadata": {},
     "output_type": "execute_result"
    }
   ],
   "source": [
    "undersampler = RandomUnderSampler(sampling_strategy=\"majority\", random_state=777)\n",
    "x_under, y_under = undersampler.fit_resample(x_train, y_train)\n",
    "print(x_under.shape)\n",
    "\n",
    "y_under.value_counts()"
   ]
  }
 ],
 "metadata": {
  "kernelspec": {
   "display_name": "Python 3",
   "language": "python",
   "name": "python3"
  },
  "language_info": {
   "codemirror_mode": {
    "name": "ipython",
    "version": 3
   },
   "file_extension": ".py",
   "mimetype": "text/x-python",
   "name": "python",
   "nbconvert_exporter": "python",
   "pygments_lexer": "ipython3",
   "version": "3.12.0"
  }
 },
 "nbformat": 4,
 "nbformat_minor": 2
}
